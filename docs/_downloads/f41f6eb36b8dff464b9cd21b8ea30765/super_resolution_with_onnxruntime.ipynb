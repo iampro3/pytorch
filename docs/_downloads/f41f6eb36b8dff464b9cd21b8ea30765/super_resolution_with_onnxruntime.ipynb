{
  "cells": [
    {
      "cell_type": "markdown",
      "source": [
        "# ONNX : 231021\n",
        "- https://tutorials.pytorch.kr/advanced/super_resolution_with_onnxruntime.html"
      ],
      "metadata": {
        "id": "k9qESobtgUMH"
      }
    },
    {
      "cell_type": "code",
      "execution_count": 5,
      "metadata": {
        "id": "Z3IbK7eqctVl"
      },
      "outputs": [],
      "source": [
        "# Google Colab에서 노트북을 실행하실 때에는\n",
        "# https://tutorials.pytorch.kr/beginner/colab 를 참고하세요.\n",
        "%matplotlib inline"
      ]
    },
    {
      "cell_type": "markdown",
      "metadata": {
        "id": "YETEksHPctVp"
      },
      "source": [
        "\n",
        "# (선택) PyTorch 모델을 ONNX으로 변환하고 ONNX 런타임에서 실행하기\n",
        "이 튜토리얼에서는 어떻게 PyTorch에서 정의된 모델을 ONNX 형식으로 변환하고 또 어떻게 그 변환된 모델을\n",
        "ONNX 런타임에서 실행할 수 있는지에 대해 알아보도록 하겠습니다.\n",
        "ONNX 런타임은 ONNX 모델을 위한 엔진으로서 성능에 초점을 맞추고 있고 여러 다양한 플랫폼과 하드웨어(윈도우,\n",
        "리눅스, 맥을 비롯한 플랫폼 뿐만 아니라 CPU, GPU 등의 하드웨어)에서 효율적인 추론을 가능하게 합니다.\n",
        "ONNX 런타임은 [여기](https://cloudblogs.microsoft.com/opensource/2019/05/22/onnx-runtime-machine-learning-inferencing-0-4-release)_ 에서\n",
        "설명된 것과 같이 여러 모델들의 성능을 상당히 높일 수 있다는 점이 증명되었습니다.\n",
        "이 튜토리얼을 진행하기 위해서는 [ONNX](https://github.com/onnx/onnx)_\n",
        "와 [ONNX Runtime](https://github.com/microsoft/onnxruntime)_ 설치가 필요합니다.\n",
        "ONNX와 ONNX 런타임의 바이너리 빌드를 ``pip install onnx onnxruntime`` 를 통해 받을 수 있습니다.\n",
        "ONNX 런타임은 버전 3.5에서 3.7까지의 Python과 호환됩니다.\n",
        "``참고``: 본 튜토리얼은 PyTorch의 master 브랜치를 필요로하며 [링크](https://github.com/pytorch/pytorch#from-source)_ 에서\n",
        "설치할 수 있습니다.\n"
      ]
    },
    {
      "cell_type": "code",
      "execution_count": 11,
      "metadata": {
        "id": "AqCkTp07ctVr",
        "outputId": "879c36c2-5caa-45cd-85ec-efbc0002cf48",
        "colab": {
          "base_uri": "https://localhost:8080/"
        }
      },
      "outputs": [
        {
          "output_type": "stream",
          "name": "stdout",
          "text": [
            "Collecting onnx\n",
            "  Downloading onnx-1.14.1-cp310-cp310-manylinux_2_17_x86_64.manylinux2014_x86_64.whl (14.6 MB)\n",
            "\u001b[2K     \u001b[90m━━━━━━━━━━━━━━━━━━━━━━━━━━━━━━━━━━━━━━━━\u001b[0m \u001b[32m14.6/14.6 MB\u001b[0m \u001b[31m80.9 MB/s\u001b[0m eta \u001b[36m0:00:00\u001b[0m\n",
            "\u001b[?25hRequirement already satisfied: numpy in /usr/local/lib/python3.10/dist-packages (from onnx) (1.23.5)\n",
            "Requirement already satisfied: protobuf>=3.20.2 in /usr/local/lib/python3.10/dist-packages (from onnx) (3.20.3)\n",
            "Requirement already satisfied: typing-extensions>=3.6.2.1 in /usr/local/lib/python3.10/dist-packages (from onnx) (4.5.0)\n",
            "Installing collected packages: onnx\n",
            "Successfully installed onnx-1.14.1\n"
          ]
        }
      ],
      "source": [
        "# 필요한 import문\n",
        "!pip install onnx\n",
        "import io\n",
        "import numpy as np\n",
        "\n",
        "from torch import nn\n",
        "import torch.utils.model_zoo as model_zoo\n",
        "import torch.onnx"
      ]
    },
    {
      "cell_type": "markdown",
      "metadata": {
        "id": "-2B6ls5rctVt"
      },
      "source": [
        "초해상화(super-resolution)란 이미지나 비디오의 해상도를 높이기 위한 방법으로 이미지 프로세싱이나 비디오 편집에 널리\n",
        "사용되고 있는 방법입니다. 이 튜토리얼에서는 크기가 작은 초해상화 모델을 사용하도록 하겠습니다.\n",
        "\n",
        "먼저, 초해상화 모델을 PyTorch에서 구현하겠습니다.\n",
        "이 모델은 [\"Real-Time Single Image and Video Super-Resolution Using an Efficient\n",
        "Sub-Pixel Convolutional Neural Network\" - Shi et al](https://arxiv.org/abs/1609.05158)_ 에서 소개된\n",
        "효율적인 서브픽셀 합성곱 계층을 사용하여 이미지의 해상도를 업스케일 인자만큼 늘립니다.\n",
        "모델은 이미지의 YCbCr 성분 중 Y 성분을 입력값으로 받고 업스케일된 초해상도의 Y 채널 값을 리턴합니다.\n",
        "\n",
        "아래는 PyTorch 예제의\n",
        "[모델](https://github.com/pytorch/examples/blob/master/super_resolution/model.py)_\n",
        "을 그대로 가져온 것입니다:\n",
        "\n",
        "\n"
      ]
    },
    {
      "cell_type": "code",
      "execution_count": 12,
      "metadata": {
        "id": "GjKKVNeVctVt"
      },
      "outputs": [],
      "source": [
        "# PyTorch에서 구현된 초해상도 모델\n",
        "import torch.nn as nn\n",
        "import torch.nn.init as init\n",
        "\n",
        "\n",
        "class SuperResolutionNet(nn.Module):\n",
        "    def __init__(self, upscale_factor, inplace=False):\n",
        "        super(SuperResolutionNet, self).__init__()\n",
        "\n",
        "        self.relu = nn.ReLU(inplace=inplace)\n",
        "        self.conv1 = nn.Conv2d(1, 64, (5, 5), (1, 1), (2, 2))\n",
        "        self.conv2 = nn.Conv2d(64, 64, (3, 3), (1, 1), (1, 1))\n",
        "        self.conv3 = nn.Conv2d(64, 32, (3, 3), (1, 1), (1, 1))\n",
        "        self.conv4 = nn.Conv2d(32, upscale_factor ** 2, (3, 3), (1, 1), (1, 1))\n",
        "        self.pixel_shuffle = nn.PixelShuffle(upscale_factor)\n",
        "\n",
        "        self._initialize_weights()\n",
        "\n",
        "    def forward(self, x):\n",
        "        x = self.relu(self.conv1(x))\n",
        "        x = self.relu(self.conv2(x))\n",
        "        x = self.relu(self.conv3(x))\n",
        "        x = self.pixel_shuffle(self.conv4(x))\n",
        "        return x\n",
        "\n",
        "    def _initialize_weights(self):\n",
        "        init.orthogonal_(self.conv1.weight, init.calculate_gain('relu'))\n",
        "        init.orthogonal_(self.conv2.weight, init.calculate_gain('relu'))\n",
        "        init.orthogonal_(self.conv3.weight, init.calculate_gain('relu'))\n",
        "        init.orthogonal_(self.conv4.weight)\n",
        "\n",
        "# 위에서 정의된 모델을 사용하여 초해상도 모델 생성\n",
        "torch_model = SuperResolutionNet(upscale_factor=3)"
      ]
    },
    {
      "cell_type": "markdown",
      "metadata": {
        "id": "fA3TlCkoctVu"
      },
      "source": [
        "위 과정이 끝나면 일반적인 경우에 모델을 학습시키기 시작할 것입니다. 하지만 본 튜토리얼에서는\n",
        "미리 학습된 가중치들을 사용하도록 하겠습니다. 참고로 이 모델은 높은 정확도에 이를 때까지 학습되지 않았고\n",
        "본 튜토리얼을 원활히 진행하기 위한 목적으로 사용하는 것입니다.\n",
        "\n",
        "모델을 변환하기 전에 모델을 추론 모드로 바꾸기 위해서 ``torch_model.eval()`` 또는 ``torch_model.train(False)`` 를\n",
        "호출하는 것이 중요합니다.\n",
        "이는 dropout이나 batchnorm과 같은 연산들이 추론과 학습 모드에서 다르게 작동하기 때문에 필요합니다.\n",
        "\n",
        "\n"
      ]
    },
    {
      "cell_type": "code",
      "execution_count": 8,
      "metadata": {
        "id": "0guczWppctVu",
        "outputId": "c1959f22-887a-4aaa-a286-2206e5cd24d6",
        "colab": {
          "base_uri": "https://localhost:8080/"
        }
      },
      "outputs": [
        {
          "output_type": "execute_result",
          "data": {
            "text/plain": [
              "SuperResolutionNet(\n",
              "  (relu): ReLU()\n",
              "  (conv1): Conv2d(1, 64, kernel_size=(5, 5), stride=(1, 1), padding=(2, 2))\n",
              "  (conv2): Conv2d(64, 64, kernel_size=(3, 3), stride=(1, 1), padding=(1, 1))\n",
              "  (conv3): Conv2d(64, 32, kernel_size=(3, 3), stride=(1, 1), padding=(1, 1))\n",
              "  (conv4): Conv2d(32, 9, kernel_size=(3, 3), stride=(1, 1), padding=(1, 1))\n",
              "  (pixel_shuffle): PixelShuffle(upscale_factor=3)\n",
              ")"
            ]
          },
          "metadata": {},
          "execution_count": 8
        }
      ],
      "source": [
        "# 미리 학습된 가중치를 읽어옵니다\n",
        "model_url = 'https://s3.amazonaws.com/pytorch/test_data/export/superres_epoch100-44c6958e.pth'\n",
        "batch_size = 1    # 임의의 수\n",
        "\n",
        "# 모델을 미리 학습된 가중치로 초기화합니다\n",
        "map_location = lambda storage, loc: storage\n",
        "if torch.cuda.is_available():\n",
        "    map_location = None\n",
        "torch_model.load_state_dict(model_zoo.load_url(model_url, map_location=map_location))\n",
        "\n",
        "# 모델을 추론 모드로 전환합니다\n",
        "torch_model.eval()"
      ]
    },
    {
      "cell_type": "markdown",
      "metadata": {
        "id": "rkJGhv-QctVv"
      },
      "source": [
        "이제 Tracing이나 스크립팅을 통해서 PyTorch 모델을 변환할 수 있습니다.\n",
        "이 튜토리얼에서는 tracing을 통해 변환된 모델을 사용하도록 하겠습니다.\n",
        "모델을 변환하기 위해서는 ``torch.onnx.export()`` 함수를 호출합니다.\n",
        "이 함수는 모델을 실행하여 어떤 연산자들이 출력값을 계산하는데 사용되었는지를 기록합니다.\n",
        "``export`` 함수가 모델을 실행하기 때문에, 우리가 직접 텐서를 입력값으로 넘겨주어야 합니다.\n",
        "이 텐서의 값은 알맞은 자료형과 모양이라면 랜덤하게 결정되어도 무방합니다.\n",
        "특정 차원을 동적 차원으로 지정하지 않는 이상, ONNX로 변환된 그래프의 경우 입력값의 크기는 모든 차원에 대해 고정됩니다.\n",
        "예시에서는 모델이 항상 배치 사이즈 1을 사용하도록 변환하였지만, ``torch.onnx.export()`` 의 ``dynamic_axes`` 인자의\n",
        "첫번째 차원은 동적 차원으로 지정합니다. 따라서 변환된 모델은 임의의 batch_size에 대해 [batch_size, 1, 224, 224] 사이즈\n",
        "입력값을 받을 수 있습니다.\n",
        "\n",
        "PyTorch의 변환 인터페이스에 대해 더 자세히 알고 싶다면\n",
        "[torch.onnx 문서](https://pytorch.org/docs/master/onnx.html)_ 를 참고해주세요.\n",
        "\n",
        "\n"
      ]
    },
    {
      "cell_type": "code",
      "execution_count": 13,
      "metadata": {
        "id": "gB6QwkfyctVv"
      },
      "outputs": [],
      "source": [
        "# 모델에 대한 입력값\n",
        "x = torch.randn(batch_size, 1, 224, 224, requires_grad=True)\n",
        "torch_out = torch_model(x)\n",
        "\n",
        "# 모델 변환\n",
        "torch.onnx.export(torch_model,               # 실행될 모델\n",
        "                  x,                         # 모델 입력값 (튜플 또는 여러 입력값들도 가능)\n",
        "                  \"super_resolution.onnx\",   # 모델 저장 경로 (파일 또는 파일과 유사한 객체 모두 가능)\n",
        "                  export_params=True,        # 모델 파일 안에 학습된 모델 가중치를 저장할지의 여부\n",
        "                  opset_version=10,          # 모델을 변환할 때 사용할 ONNX 버전\n",
        "                  do_constant_folding=True,  # 최적화시 상수폴딩을 사용할지의 여부\n",
        "                  input_names = ['input'],   # 모델의 입력값을 가리키는 이름\n",
        "                  output_names = ['output'], # 모델의 출력값을 가리키는 이름\n",
        "                  dynamic_axes={'input' : {0 : 'batch_size'},    # 가변적인 길이를 가진 차원\n",
        "                                'output' : {0 : 'batch_size'}})"
      ]
    },
    {
      "cell_type": "markdown",
      "metadata": {
        "id": "bXE0kwr3ctVw"
      },
      "source": [
        "ONNX 런타임에서 변환된 모델을 사용했을 때 같은 결과를 얻는지 확인하기 위해서 ``torch_out`` 를 계산합니다.\n",
        "\n",
        "ONNX 런타임에서의 모델 결과값을 확인하기 전에 먼저 ONNX API를 사용해 ONNX 모델을 확인해보도록 하겠습니다.\n",
        "먼저, ``onnx.load(\"super_resolution.onnx\")`` 는 저장된 모델을 읽어온 후\n",
        "머신러닝 모델을 취합하여 저장하고 있는 상위 파일 컨테이너인 ``onnx.ModelProto`` 를 리턴합니다.\n",
        "``onnx.ModelProto`` 에 대해 더 자세한 것은 [onnx.proto 기술문서](https://github.com/onnx/onnx/blob/master/onnx/onnx.proto)_ 에서\n",
        "확인하실 수 있습니다.\n",
        "``onnx.checker.check_model(onnx_model)`` 는 모델의 구조를 확인하고\n",
        "모델이 유효한 스키마(valid schema)를 가지고 있는지를 체크합니다.\n",
        "ONNX 그래프의 유효성은 모델의 버전, 그래프 구조, 노드들, 그리고 입력값과 출력값들을 모두 체크하여\n",
        "결정됩니다.\n",
        "\n",
        "\n"
      ]
    },
    {
      "cell_type": "code",
      "execution_count": 14,
      "metadata": {
        "id": "tz8ZdSGNctVw"
      },
      "outputs": [],
      "source": [
        "import onnx\n",
        "\n",
        "onnx_model = onnx.load(\"super_resolution.onnx\")\n",
        "onnx.checker.check_model(onnx_model)"
      ]
    },
    {
      "cell_type": "markdown",
      "metadata": {
        "id": "zyE7TJ95ctVw"
      },
      "source": [
        "이제 ONNX 런타임의 Python API를 통해 결과값을 계산해보도록 하겠습니다.\n",
        "이 부분은 보통 별도의 프로세스 또는 별도의 머신에서 실행되지만, 이 튜토리얼에서는 모델이\n",
        "ONNX 런타임과 PyTorch에서 동일한 결과를 출력하는지를 확인하기 위해 동일한 프로세스에서 계속 실행하도록\n",
        "하겠습니다.\n",
        "\n",
        "모델을 ONNX 런타임에서 실행하기 위해서는 미리 설정된 인자들(본 예제에서는 기본값을 사용합니다)로\n",
        "모델을 위한 추론 세션을 생성해야 합니다.\n",
        "세션이 생성되면, 모델의 run() API를 사용하여 모델을 실행합니다.\n",
        "이 API의 리턴값은 ONNX 런타임에서 연산된 모델의 결과값들을 포함하고 있는 리스트입니다.\n",
        "\n",
        "\n"
      ]
    },
    {
      "cell_type": "code",
      "execution_count": 18,
      "metadata": {
        "id": "J3qHqkaActVx",
        "outputId": "a61ce55b-e5a4-4332-bc7a-f8fb728dfba1",
        "colab": {
          "base_uri": "https://localhost:8080/"
        }
      },
      "outputs": [
        {
          "output_type": "stream",
          "name": "stdout",
          "text": [
            "Collecting onnxruntime\n",
            "  Downloading onnxruntime-1.16.1-cp310-cp310-manylinux_2_17_x86_64.manylinux2014_x86_64.whl (6.2 MB)\n",
            "\u001b[2K     \u001b[90m━━━━━━━━━━━━━━━━━━━━━━━━━━━━━━━━━━━━━━━━\u001b[0m \u001b[32m6.2/6.2 MB\u001b[0m \u001b[31m43.1 MB/s\u001b[0m eta \u001b[36m0:00:00\u001b[0m\n",
            "\u001b[?25hCollecting coloredlogs (from onnxruntime)\n",
            "  Downloading coloredlogs-15.0.1-py2.py3-none-any.whl (46 kB)\n",
            "\u001b[2K     \u001b[90m━━━━━━━━━━━━━━━━━━━━━━━━━━━━━━━━━━━━━━━━\u001b[0m \u001b[32m46.0/46.0 kB\u001b[0m \u001b[31m6.4 MB/s\u001b[0m eta \u001b[36m0:00:00\u001b[0m\n",
            "\u001b[?25hRequirement already satisfied: flatbuffers in /usr/local/lib/python3.10/dist-packages (from onnxruntime) (23.5.26)\n",
            "Requirement already satisfied: numpy>=1.21.6 in /usr/local/lib/python3.10/dist-packages (from onnxruntime) (1.23.5)\n",
            "Requirement already satisfied: packaging in /usr/local/lib/python3.10/dist-packages (from onnxruntime) (23.2)\n",
            "Requirement already satisfied: protobuf in /usr/local/lib/python3.10/dist-packages (from onnxruntime) (3.20.3)\n",
            "Requirement already satisfied: sympy in /usr/local/lib/python3.10/dist-packages (from onnxruntime) (1.12)\n",
            "Collecting humanfriendly>=9.1 (from coloredlogs->onnxruntime)\n",
            "  Downloading humanfriendly-10.0-py2.py3-none-any.whl (86 kB)\n",
            "\u001b[2K     \u001b[90m━━━━━━━━━━━━━━━━━━━━━━━━━━━━━━━━━━━━━━━━\u001b[0m \u001b[32m86.8/86.8 kB\u001b[0m \u001b[31m11.6 MB/s\u001b[0m eta \u001b[36m0:00:00\u001b[0m\n",
            "\u001b[?25hRequirement already satisfied: mpmath>=0.19 in /usr/local/lib/python3.10/dist-packages (from sympy->onnxruntime) (1.3.0)\n",
            "Installing collected packages: humanfriendly, coloredlogs, onnxruntime\n",
            "Successfully installed coloredlogs-15.0.1 humanfriendly-10.0 onnxruntime-1.16.1\n",
            "Exported model has been tested with ONNXRuntime, and the result looks good!\n"
          ]
        }
      ],
      "source": [
        "!pip install onnxruntime\n",
        "import onnxruntime\n",
        "\n",
        "ort_session = onnxruntime.InferenceSession(\"super_resolution.onnx\")\n",
        "\n",
        "def to_numpy(tensor):\n",
        "    return tensor.detach().cpu().numpy() if tensor.requires_grad else tensor.cpu().numpy()\n",
        "\n",
        "# ONNX 런타임에서 계산된 결과값\n",
        "ort_inputs = {ort_session.get_inputs()[0].name: to_numpy(x)}\n",
        "ort_outs = ort_session.run(None, ort_inputs)\n",
        "\n",
        "# ONNX 런타임과 PyTorch에서 연산된 결과값 비교\n",
        "np.testing.assert_allclose(to_numpy(torch_out), ort_outs[0], rtol=1e-03, atol=1e-05)\n",
        "\n",
        "print(\"Exported model has been tested with ONNXRuntime, and the result looks good!\")"
      ]
    },
    {
      "cell_type": "markdown",
      "metadata": {
        "id": "2DlS9QaactVx"
      },
      "source": [
        "이제 PyTorch와 ONNX 런타임에서 연산된 결과값이 서로 일치하는지 오차범위( ``rtol=1e-03`` 와 ``atol=1e-05``)\n",
        "이내에서 확인해야 합니다.\n",
        "만약 결과가 일치하지 않는다면 ONNX 변환기에 문제가 있는 것이니 저희에게 알려주시기 바랍니다.\n",
        "\n",
        "\n"
      ]
    },
    {
      "cell_type": "markdown",
      "metadata": {
        "id": "30Lf-x5UctVx"
      },
      "source": [
        "## ONNX 런타임에서 이미지를 입력값으로 모델을 실행하기\n",
        "\n",
        "\n"
      ]
    },
    {
      "cell_type": "markdown",
      "metadata": {
        "id": "83v0koWRctVx"
      },
      "source": [
        "지금까지 PyTorch 모델을 변환하고 어떻게 ONNX 런타임에서 구동하는지 가상의 텐서를 입력값으로 하여\n",
        "살펴보았습니다.\n",
        "\n"
      ]
    },
    {
      "cell_type": "markdown",
      "metadata": {
        "id": "G9FeRzCdctVx"
      },
      "source": [
        "본 튜토리얼에서는 아래와 같은 유명한 고양이 사진을 사용하도록 하겠습니다.\n",
        "\n",
        ".. figure:: /_static/img/cat_224x224.jpg\n",
        "   :alt: cat\n",
        "\n",
        "\n"
      ]
    },
    {
      "cell_type": "markdown",
      "metadata": {
        "id": "msFP6xGQctVx"
      },
      "source": [
        "먼저, PIL 라이브러리를 사용하여 이미지를 로드하고 전처리하겠습니다. 이 전처리는 신경망 학습과 테스트에\n",
        "보편적으로 적용되고 있는 전처리 과정입니다.\n",
        "\n",
        "먼저 이미지를 모델의 입력값 크기(224x224)에 맞게 리사이즈합니다.\n",
        " 그리고 이미지를 Y, Cb, Cr 성분으로 분해합니다.\n",
        "Y 성분[역자 주: 휘도 성분]은 그레이스케일(회색조) 이미지를 나타내고, Cb 성분은 파란색에서 밝기를 뺀 색차 성분,\n",
        "Cr은 빨강색에서 밝기를 뺀 색차 성분을 나타냅니다.\n",
        "사람의 눈은 Y 성분에 더 민감하게 반응하기 때문에 저희에게는 현재 이 성분이 중요하고, 이 Y 성분을 변환할 것입니다.\n",
        "Y 성분을 뽑아낸 뒤에, 추출한 Y 성분을 모델의 입력값이 될 텐서로 변환합니다.\n",
        "\n",
        "\n"
      ]
    },
    {
      "cell_type": "code",
      "execution_count": 20,
      "metadata": {
        "id": "2U3PdtojctVx",
        "outputId": "11e2d072-7782-48fe-c412-80861e9ebb9d",
        "colab": {
          "base_uri": "https://localhost:8080/"
        }
      },
      "outputs": [
        {
          "output_type": "execute_result",
          "data": {
            "text/plain": [
              "tensor([[[[0.1882, 0.1922, 0.2039,  ..., 0.5020, 0.5216, 0.5490],\n",
              "          [0.1843, 0.1882, 0.1961,  ..., 0.4863, 0.5059, 0.5294],\n",
              "          [0.1882, 0.1882, 0.1882,  ..., 0.4706, 0.4863, 0.5020],\n",
              "          ...,\n",
              "          [0.6078, 0.6235, 0.6235,  ..., 0.7882, 0.8039, 0.7725],\n",
              "          [0.6392, 0.6314, 0.6235,  ..., 0.7333, 0.7529, 0.7216],\n",
              "          [0.6549, 0.6275, 0.6157,  ..., 0.6941, 0.7059, 0.6627]]]])"
            ]
          },
          "metadata": {},
          "execution_count": 20
        }
      ],
      "source": [
        "from PIL import Image\n",
        "import torchvision.transforms as transforms\n",
        "\n",
        "img = Image.open(\"/cat.jpg\")\n",
        "\n",
        "resize = transforms.Resize([224, 224])\n",
        "img = resize(img)\n",
        "\n",
        "img_ycbcr = img.convert('YCbCr')\n",
        "img_y, img_cb, img_cr = img_ycbcr.split()\n",
        "\n",
        "to_tensor = transforms.ToTensor()\n",
        "img_y = to_tensor(img_y)\n",
        "img_y.unsqueeze_(0)"
      ]
    },
    {
      "cell_type": "markdown",
      "metadata": {
        "id": "V_a_glXmctVy"
      },
      "source": [
        "다음은 리사이즈된 그레이스케일 고양이 이미지 텐서를 앞서 설명했던 것처럼 초해상도 모델에 넘겨주어\n",
        "ONNX 런타임에서 실행하도록 하겠습니다.\n",
        "\n",
        "\n"
      ]
    },
    {
      "cell_type": "code",
      "execution_count": 21,
      "metadata": {
        "id": "MnN7CsucctVy"
      },
      "outputs": [],
      "source": [
        "ort_inputs = {ort_session.get_inputs()[0].name: to_numpy(img_y)}\n",
        "ort_outs = ort_session.run(None, ort_inputs)\n",
        "img_out_y = ort_outs[0]"
      ]
    },
    {
      "cell_type": "markdown",
      "metadata": {
        "id": "wQVjFVsDctVy"
      },
      "source": [
        "이렇게 하면 모델의 결과값은 텐서가 됩니다.\n",
        "이제 모델의 결과값을 처리하여 결과값 텐서에서 마지막 최종 출력 이미지를 만들고 이를 저장해보도록 하겠습니다.\n",
        "후처리 단계는 [링크](https://github.com/pytorch/examples/blob/master/super_resolution/super_resolve.py)_ 에\n",
        "구현되어있는 초해상도 모델 코드에서 가져온 것입니다.\n",
        "\n",
        "\n"
      ]
    },
    {
      "cell_type": "code",
      "execution_count": 22,
      "metadata": {
        "id": "r-NTlj2DctVy"
      },
      "outputs": [],
      "source": [
        "img_out_y = Image.fromarray(np.uint8((img_out_y[0] * 255.0).clip(0, 255)[0]), mode='L')\n",
        "\n",
        "# PyTorch 버전의 후처리 과정 코드를 이용해 결과 이미지 만들기\n",
        "final_img = Image.merge(\n",
        "    \"YCbCr\", [\n",
        "        img_out_y,\n",
        "        img_cb.resize(img_out_y.size, Image.BICUBIC),\n",
        "        img_cr.resize(img_out_y.size, Image.BICUBIC),\n",
        "    ]).convert(\"RGB\")\n",
        "\n",
        "# 이미지를 저장하고 모바일 기기에서의 결과 이미지와 비교하기\n",
        "final_img.save(\"/cat_superres_with_ort.jpg\")"
      ]
    },
    {
      "cell_type": "code",
      "source": [],
      "metadata": {
        "id": "eMPXV5AWfqEi"
      },
      "execution_count": null,
      "outputs": []
    },
    {
      "cell_type": "markdown",
      "metadata": {
        "id": "7244_woqctVy"
      },
      "source": [
        ".. figure:: /_static/img/cat_superres_with_ort.jpg\n",
        "   :alt: output\\_cat\n",
        "\n",
        "\n",
        "ONNX 런타임은 크로스플랫폼 엔진으로서 CPU와 GPU 뿐만 아니라 여러 플랫폼에서 실행될 수 있습니다.\n",
        "\n",
        "ONNX 런타임은 Azure Machine Learning Services와 같은 클라우드에 배포되어 모델 추론을 하는데\n",
        "사용될 수도 있습니다.\n",
        "더 자세한 내용은 [링크](https://docs.microsoft.com/en-us/azure/machine-learning/service/concept-onnx)_ 를\n",
        "참조해주십시오.\n",
        "\n",
        "ONNX 런타임의 성능에 관한 것은 [여기](https://github.com/microsoft/onnxruntime#high-performance)_ 에서\n",
        "확인하실 수 있습니다.\n",
        "\n",
        "ONNX 런타임에 관한 더 자세한 내용은 [이 곳](https://github.com/microsoft/onnxruntime)_ 을 참조해 주세요.\n",
        "\n",
        "\n"
      ]
    }
  ],
  "metadata": {
    "kernelspec": {
      "display_name": "Python 3",
      "language": "python",
      "name": "python3"
    },
    "language_info": {
      "codemirror_mode": {
        "name": "ipython",
        "version": 3
      },
      "file_extension": ".py",
      "mimetype": "text/x-python",
      "name": "python",
      "nbconvert_exporter": "python",
      "pygments_lexer": "ipython3",
      "version": "3.9.16"
    },
    "colab": {
      "provenance": []
    }
  },
  "nbformat": 4,
  "nbformat_minor": 0
}